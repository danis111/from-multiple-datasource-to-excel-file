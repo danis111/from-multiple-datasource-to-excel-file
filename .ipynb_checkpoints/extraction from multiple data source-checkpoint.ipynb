{
 "cells": [
  {
   "cell_type": "code",
   "execution_count": 121,
   "id": "e9e1cbd8",
   "metadata": {},
   "outputs": [
    {
     "name": "stdout",
     "output_type": "stream",
     "text": [
      "C:\\Users\\danis\\Desktop\\Extraction\n"
     ]
    }
   ],
   "source": [
    "import os\n",
    "current_folder = os.getcwd()\n",
    "print(current_folder)"
   ]
  },
  {
   "cell_type": "code",
   "execution_count": 122,
   "id": "08a5d1a1",
   "metadata": {},
   "outputs": [
    {
     "data": {
      "text/plain": [
       "['.git',\n",
       " '.ipynb_checkpoints',\n",
       " 'Children Bicycles.json',\n",
       " 'Children Bicycles.xlsx',\n",
       " 'Children Bicycles11.csv',\n",
       " 'collected_data.xlsx',\n",
       " 'Comfort Bicycles.json',\n",
       " 'Comfort Bicycles.xlsx',\n",
       " 'Comfort Bicycles11.csv',\n",
       " 'Cruisers Bicycles.json',\n",
       " 'Cruisers Bicycles.xlsx',\n",
       " 'Cruisers Bicycles11.csv',\n",
       " 'Cyclocross Bicycles.json',\n",
       " 'Cyclocross Bicycles.xlsx',\n",
       " 'Cyclocross Bicycles11.csv',\n",
       " 'Electric Bikes.json',\n",
       " 'Electric Bikes.xlsx',\n",
       " 'Electric Bikes11.csv',\n",
       " 'extraction from multiple data source.ipynb',\n",
       " 'Mountain Bikes.json',\n",
       " 'Mountain Bikes.xlsx',\n",
       " 'Mountain Bikes11.csv',\n",
       " 'Road Bikes.json',\n",
       " 'Road Bikes.xlsx',\n",
       " 'Road Bikes11.csv',\n",
       " '~$collected_data.xlsx']"
      ]
     },
     "execution_count": 122,
     "metadata": {},
     "output_type": "execute_result"
    }
   ],
   "source": [
    "import os\n",
    "files = os.listdir(os.getcwd())\n",
    "files"
   ]
  },
  {
   "cell_type": "code",
   "execution_count": 120,
   "id": "b4e65030",
   "metadata": {},
   "outputs": [
    {
     "data": {
      "text/plain": [
       "'has been conducted succesfully'"
      ]
     },
     "execution_count": 120,
     "metadata": {},
     "output_type": "execute_result"
    }
   ],
   "source": [
    "import os\n",
    "export(os.listdir(os.getcwd()))\n"
   ]
  },
  {
   "cell_type": "code",
   "execution_count": 116,
   "id": "9cfe5898",
   "metadata": {},
   "outputs": [],
   "source": [
    "\n",
    "# those are files that's gonna be imported to DataFrame from excel,json and csv data format...\n",
    "\n",
    "def export(files):\n",
    "    \n",
    "    import pandas as pd\n",
    "    sales = pd.DataFrame()\n",
    "    \n",
    "    for file in files:\n",
    "        if  os.path.join(file).split(\".\")[-1]==\"xlsx\":\n",
    "            df = pd.read_excel(file)\n",
    "            sales = sales.append(df,ignore_index=True)\n",
    "            \n",
    "        \n",
    "        elif os.path.join(file).split(\".\")[-1]==\"csv\":\n",
    "            df = pd.read_csv(file)\n",
    "            sales = sales.append(df,ignore_index=True)\n",
    "            \n",
    "        elif os.path.join(file).split(\".\")[-1]==\"json\":\n",
    "            df = pd.read_json(file,lines=True)\n",
    "            sales = sales.append(df,ignore_index=True)\n",
    "        \n",
    "        else:\n",
    "            continue\n",
    "    sales.to_excel(r\"C:\\Users\\danis\\Desktop\\Extraction\\collected_data.xlsx\",index=False)       \n",
    "    return \"has been conducted succesfully\"     \n",
    "        "
   ]
  },
  {
   "cell_type": "code",
   "execution_count": 123,
   "id": "b1a12f18",
   "metadata": {},
   "outputs": [
    {
     "data": {
      "text/html": [
       "<div>\n",
       "<style scoped>\n",
       "    .dataframe tbody tr th:only-of-type {\n",
       "        vertical-align: middle;\n",
       "    }\n",
       "\n",
       "    .dataframe tbody tr th {\n",
       "        vertical-align: top;\n",
       "    }\n",
       "\n",
       "    .dataframe thead th {\n",
       "        text-align: right;\n",
       "    }\n",
       "</style>\n",
       "<table border=\"1\" class=\"dataframe\">\n",
       "  <thead>\n",
       "    <tr style=\"text-align: right;\">\n",
       "      <th></th>\n",
       "      <th>category_id</th>\n",
       "      <th>category_name</th>\n",
       "      <th>product_id</th>\n",
       "      <th>product_name</th>\n",
       "      <th>list_price</th>\n",
       "    </tr>\n",
       "  </thead>\n",
       "  <tbody>\n",
       "    <tr>\n",
       "      <th>0</th>\n",
       "      <td>1</td>\n",
       "      <td>Children Bicycles</td>\n",
       "      <td>21</td>\n",
       "      <td>Electra Cruiser 1 (24-Inch) - 2016</td>\n",
       "      <td>269.99</td>\n",
       "    </tr>\n",
       "    <tr>\n",
       "      <th>1</th>\n",
       "      <td>1</td>\n",
       "      <td>Children Bicycles</td>\n",
       "      <td>22</td>\n",
       "      <td>Electra Girl's Hawaii 1 (16-inch) - 2015/2016</td>\n",
       "      <td>269.99</td>\n",
       "    </tr>\n",
       "    <tr>\n",
       "      <th>2</th>\n",
       "      <td>1</td>\n",
       "      <td>Children Bicycles</td>\n",
       "      <td>23</td>\n",
       "      <td>Electra Girl's Hawaii 1 (20-inch) - 2015/2016</td>\n",
       "      <td>299.99</td>\n",
       "    </tr>\n",
       "    <tr>\n",
       "      <th>3</th>\n",
       "      <td>1</td>\n",
       "      <td>Children Bicycles</td>\n",
       "      <td>83</td>\n",
       "      <td>Trek Boy's Kickster - 2015/2017</td>\n",
       "      <td>149.99</td>\n",
       "    </tr>\n",
       "    <tr>\n",
       "      <th>4</th>\n",
       "      <td>1</td>\n",
       "      <td>Children Bicycles</td>\n",
       "      <td>84</td>\n",
       "      <td>Sun Bicycles Lil Kitt'n - 2017</td>\n",
       "      <td>109.99</td>\n",
       "    </tr>\n",
       "    <tr>\n",
       "      <th>...</th>\n",
       "      <td>...</td>\n",
       "      <td>...</td>\n",
       "      <td>...</td>\n",
       "      <td>...</td>\n",
       "      <td>...</td>\n",
       "    </tr>\n",
       "    <tr>\n",
       "      <th>958</th>\n",
       "      <td>7</td>\n",
       "      <td>Road Bikes</td>\n",
       "      <td>317</td>\n",
       "      <td>Trek Checkpoint ALR 5 - 2019</td>\n",
       "      <td>1999.99</td>\n",
       "    </tr>\n",
       "    <tr>\n",
       "      <th>959</th>\n",
       "      <td>7</td>\n",
       "      <td>Road Bikes</td>\n",
       "      <td>318</td>\n",
       "      <td>Trek Checkpoint ALR 5 Women's - 2019</td>\n",
       "      <td>1999.99</td>\n",
       "    </tr>\n",
       "    <tr>\n",
       "      <th>960</th>\n",
       "      <td>7</td>\n",
       "      <td>Road Bikes</td>\n",
       "      <td>319</td>\n",
       "      <td>Trek Checkpoint SL 5 Women's - 2019</td>\n",
       "      <td>2799.99</td>\n",
       "    </tr>\n",
       "    <tr>\n",
       "      <th>961</th>\n",
       "      <td>7</td>\n",
       "      <td>Road Bikes</td>\n",
       "      <td>320</td>\n",
       "      <td>Trek Checkpoint SL 6 - 2019</td>\n",
       "      <td>3799.99</td>\n",
       "    </tr>\n",
       "    <tr>\n",
       "      <th>962</th>\n",
       "      <td>7</td>\n",
       "      <td>Road Bikes</td>\n",
       "      <td>321</td>\n",
       "      <td>Trek Checkpoint ALR Frameset - 2019</td>\n",
       "      <td>3199.99</td>\n",
       "    </tr>\n",
       "  </tbody>\n",
       "</table>\n",
       "<p>963 rows × 5 columns</p>\n",
       "</div>"
      ],
      "text/plain": [
       "     category_id      category_name  product_id  \\\n",
       "0              1  Children Bicycles          21   \n",
       "1              1  Children Bicycles          22   \n",
       "2              1  Children Bicycles          23   \n",
       "3              1  Children Bicycles          83   \n",
       "4              1  Children Bicycles          84   \n",
       "..           ...                ...         ...   \n",
       "958            7         Road Bikes         317   \n",
       "959            7         Road Bikes         318   \n",
       "960            7         Road Bikes         319   \n",
       "961            7         Road Bikes         320   \n",
       "962            7         Road Bikes         321   \n",
       "\n",
       "                                      product_name  list_price  \n",
       "0               Electra Cruiser 1 (24-Inch) - 2016      269.99  \n",
       "1    Electra Girl's Hawaii 1 (16-inch) - 2015/2016      269.99  \n",
       "2    Electra Girl's Hawaii 1 (20-inch) - 2015/2016      299.99  \n",
       "3                  Trek Boy's Kickster - 2015/2017      149.99  \n",
       "4                   Sun Bicycles Lil Kitt'n - 2017      109.99  \n",
       "..                                             ...         ...  \n",
       "958                   Trek Checkpoint ALR 5 - 2019     1999.99  \n",
       "959           Trek Checkpoint ALR 5 Women's - 2019     1999.99  \n",
       "960            Trek Checkpoint SL 5 Women's - 2019     2799.99  \n",
       "961                    Trek Checkpoint SL 6 - 2019     3799.99  \n",
       "962            Trek Checkpoint ALR Frameset - 2019     3199.99  \n",
       "\n",
       "[963 rows x 5 columns]"
      ]
     },
     "execution_count": 123,
     "metadata": {},
     "output_type": "execute_result"
    }
   ],
   "source": [
    "sales\n",
    "# this is the dataframe that'll be converted to excel file after extraction from 3 different data formats"
   ]
  },
  {
   "cell_type": "code",
   "execution_count": null,
   "id": "50925d08",
   "metadata": {},
   "outputs": [],
   "source": []
  }
 ],
 "metadata": {
  "kernelspec": {
   "display_name": "Python 3 (ipykernel)",
   "language": "python",
   "name": "python3"
  },
  "language_info": {
   "codemirror_mode": {
    "name": "ipython",
    "version": 3
   },
   "file_extension": ".py",
   "mimetype": "text/x-python",
   "name": "python",
   "nbconvert_exporter": "python",
   "pygments_lexer": "ipython3",
   "version": "3.10.1"
  }
 },
 "nbformat": 4,
 "nbformat_minor": 5
}
